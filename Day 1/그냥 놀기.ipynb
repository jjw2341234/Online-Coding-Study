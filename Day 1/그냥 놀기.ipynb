{
 "cells": [
  {
   "cell_type": "code",
   "execution_count": 3,
   "metadata": {},
   "outputs": [
    {
     "name": "stdout",
     "output_type": "stream",
     "text": [
      "False\n"
     ]
    }
   ],
   "source": [
    "import math\n",
    "n  = list(input())\n",
    "cnt = 0\n",
    "for i in range(math.ceil(len(n)/2)):\n",
    "    if n[i] == n[len(n)-1-i]:\n",
    "        cnt+=1\n",
    "if cnt == math.ceil(len(n)/2):\n",
    "    print(True)\n",
    "else:\n",
    "    print(False)"
   ]
  },
  {
   "cell_type": "code",
   "execution_count": 4,
   "metadata": {},
   "outputs": [
    {
     "ename": "ValueError",
     "evalue": "invalid literal for int() with base 10: '2 10 8 17 0 0 1 0 1 1 4 2 4 3 4 5 2 4 3 4 7 4 8 4 9 4 7 5 8 5 9 5 7 6 8 6 9 6 10 10 1 5 5'",
     "output_type": "error",
     "traceback": [
      "\u001b[1;31m---------------------------------------------------------------------------\u001b[0m",
      "\u001b[1;31mValueError\u001b[0m                                Traceback (most recent call last)",
      "Cell \u001b[1;32mIn [4], line 2\u001b[0m\n\u001b[0;32m      1\u001b[0m \u001b[38;5;28;01mfrom\u001b[39;00m \u001b[38;5;21;01mcollections\u001b[39;00m \u001b[38;5;28;01mimport\u001b[39;00m deque\n\u001b[1;32m----> 2\u001b[0m T \u001b[38;5;241m=\u001b[39m \u001b[38;5;28;43mint\u001b[39;49m\u001b[43m(\u001b[49m\u001b[38;5;28;43minput\u001b[39;49m\u001b[43m(\u001b[49m\u001b[43m)\u001b[49m\u001b[43m)\u001b[49m\n\u001b[0;32m      3\u001b[0m \u001b[38;5;28;01mdef\u001b[39;00m \u001b[38;5;21mbfs\u001b[39m(i,j):\n\u001b[0;32m      4\u001b[0m     q \u001b[38;5;241m=\u001b[39m deque()\n",
      "\u001b[1;31mValueError\u001b[0m: invalid literal for int() with base 10: '2 10 8 17 0 0 1 0 1 1 4 2 4 3 4 5 2 4 3 4 7 4 8 4 9 4 7 5 8 5 9 5 7 6 8 6 9 6 10 10 1 5 5'"
     ]
    }
   ],
   "source": [
    "from collections import deque\n",
    "T = int(input())\n",
    "def bfs(i,j):\n",
    "    q = deque()\n",
    "    q.append([i,j])\n",
    "    visit[i][j] = 1\n",
    "    while q:\n",
    "        x,y = q.popleft()\n",
    "        for dx, dy in ([1,0], [-1,0], [0,1], [0,-1]):\n",
    "            nx = x + dx\n",
    "            ny = y + dy\n",
    "            if 0<= nx < n and 0<= ny < m and arr[nx][ny] and not visit[nx][ny]:\n",
    "                visit[nx][ny] = 1\n",
    "                q.append([nx, ny])\n",
    "for _ in range(T):\n",
    "    n,m,k = map(int, input().split())\n",
    "    cnt = 0\n",
    "    visit = [[0] * n for i in range(m)]\n",
    "    arr = [[0] * n for i in range(m)]\n",
    "\n",
    "    for W in range(k):\n",
    "        x,y = map(int, input().split())\n",
    "        arr[x][y] = 1\n",
    "\n",
    "    for i in range(n):\n",
    "        for j in range(m):\n",
    "            if arr[i][j] and not visit[i][j]:\n",
    "                bfs(i,j)\n",
    "                cnt+=1     \n",
    "    print(cnt)"
   ]
  }
 ],
 "metadata": {
  "kernelspec": {
   "display_name": "Python 3",
   "language": "python",
   "name": "python3"
  },
  "language_info": {
   "codemirror_mode": {
    "name": "ipython",
    "version": 3
   },
   "file_extension": ".py",
   "mimetype": "text/x-python",
   "name": "python",
   "nbconvert_exporter": "python",
   "pygments_lexer": "ipython3",
   "version": "3.10.5"
  }
 },
 "nbformat": 4,
 "nbformat_minor": 2
}
