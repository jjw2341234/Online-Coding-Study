{
 "cells": [
  {
   "cell_type": "code",
   "execution_count": 3,
   "metadata": {},
   "outputs": [
    {
     "name": "stdout",
     "output_type": "stream",
     "text": [
      "False\n"
     ]
    }
   ],
   "source": [
    "import math\n",
    "n  = list(input())\n",
    "cnt = 0\n",
    "for i in range(math.ceil(len(n)/2)):\n",
    "    if n[i] == n[len(n)-1-i]:\n",
    "        cnt+=1\n",
    "if cnt == math.ceil(len(n)/2):\n",
    "    print(True)\n",
    "else:\n",
    "    print(False)"
   ]
  },
  {
   "cell_type": "code",
   "execution_count": null,
   "metadata": {},
   "outputs": [],
   "source": [
    "from collections import deque\n",
    "T = int(input())\n",
    "def bfs(i,j):\n",
    "    q = deque()\n",
    "    q.append([i,j])\n",
    "    visit[i][j] = 1\n",
    "    while q:\n",
    "        x,y = q.popleft()\n",
    "        for dx, dy in ([1,0], [-1,0], [0,1], [0,-1]):\n",
    "            nx = x + dx\n",
    "            ny = y + dy\n",
    "            if 0<= nx < n and 0<= ny < m and arr[nx][ny] and not visit[nx][ny]:\n",
    "                visit[nx][ny] = 1\n",
    "                q.append([nx, ny])\n",
    "for _ in range(T):\n",
    "    n,m,k = map(int, input().split())\n",
    "    cnt = 0\n",
    "    visit = [[0] * n for i in range(m)]\n",
    "    arr = [[0] * n for i in range(m)]\n",
    "\n",
    "    for W in range(k):\n",
    "        x,y = map(int, input().split())\n",
    "        arr[x][y] = 1\n",
    "\n",
    "    for i in range(n):\n",
    "        for j in range(m):\n",
    "            if arr[i][j] and not visit[i][j]:\n",
    "                bfs(i,j)\n",
    "                cnt+=1     \n",
    "    print(cnt)"
   ]
  }
 ],
 "metadata": {
  "kernelspec": {
   "display_name": "Python 3",
   "language": "python",
   "name": "python3"
  },
  "language_info": {
   "codemirror_mode": {
    "name": "ipython",
    "version": 3
   },
   "file_extension": ".py",
   "mimetype": "text/x-python",
   "name": "python",
   "nbconvert_exporter": "python",
   "pygments_lexer": "ipython3",
   "version": "3.10.5"
  }
 },
 "nbformat": 4,
 "nbformat_minor": 2
}
